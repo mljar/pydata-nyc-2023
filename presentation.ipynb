{
 "cells": [
  {
   "cell_type": "code",
   "execution_count": null,
   "id": "5de1cf92-9369-43b8-9684-9ea6dd6e1b6d",
   "metadata": {
    "editable": true,
    "slideshow": {
     "slide_type": "skip"
    },
    "tags": []
   },
   "outputs": [],
   "source": [
    "import mercury as mr\n",
    "import pandas as pd\n",
    "import numpy as np\n",
    "from matplotlib import pyplot as plt"
   ]
  },
  {
   "cell_type": "markdown",
   "id": "6a42a5a6-b19e-4cd8-8521-f3c308716ddf",
   "metadata": {
    "editable": true,
    "slideshow": {
     "slide_type": "slide"
    },
    "tags": []
   },
   "source": [
    "# Presentation 🎲"
   ]
  },
  {
   "cell_type": "markdown",
   "id": "0e2bb13f-b952-409d-b0ed-f6e3bdb0f491",
   "metadata": {
    "editable": true,
    "slideshow": {
     "slide_type": "slide"
    },
    "tags": []
   },
   "source": [
    "Agenda\n",
    "- generate some data\n",
    "- display data frame\n",
    "- display plot"
   ]
  },
  {
   "cell_type": "code",
   "execution_count": null,
   "id": "efdbcd0c-67ef-4cb6-84fe-f99b552572d2",
   "metadata": {
    "editable": true,
    "slideshow": {
     "slide_type": "skip"
    },
    "tags": []
   },
   "outputs": [],
   "source": [
    "rows = mr.Slider(label=\"Rows\", value=20, min=10, max=100)"
   ]
  },
  {
   "cell_type": "code",
   "execution_count": null,
   "id": "a37ec580-ffd8-46f3-a8f4-c8fae401e111",
   "metadata": {
    "editable": true,
    "slideshow": {
     "slide_type": "skip"
    },
    "tags": []
   },
   "outputs": [],
   "source": [
    "cols = mr.Slider(label=\"Columns\", value=5, min=3, max=10)"
   ]
  },
  {
   "cell_type": "code",
   "execution_count": null,
   "id": "81b609e1-ab99-495c-8112-abe4d0746922",
   "metadata": {
    "editable": true,
    "slideshow": {
     "slide_type": "slide"
    },
    "tags": []
   },
   "outputs": [],
   "source": [
    "df = pd.DataFrame({\n",
    "    f\"col{i}\": np.random.rand(rows.value) for i in range(cols.value)\n",
    "})\n",
    "df"
   ]
  },
  {
   "cell_type": "code",
   "execution_count": null,
   "id": "d4487944-596d-4a5c-9048-38a66d6a45bd",
   "metadata": {
    "editable": true,
    "slideshow": {
     "slide_type": "skip"
    },
    "tags": []
   },
   "outputs": [],
   "source": [
    "color = mr.Select(label=\"Color\", value=\"red\", choices=[\"red\", \"blue\"])"
   ]
  },
  {
   "cell_type": "code",
   "execution_count": null,
   "id": "e4d93473-9b00-478f-9d02-870bd8eca4d3",
   "metadata": {
    "editable": true,
    "slideshow": {
     "slide_type": "slide"
    },
    "tags": []
   },
   "outputs": [],
   "source": [
    "_=plt.plot(df[\"col0\"], df[\"col1\"], \"*\", color=color.value, markersize=12)"
   ]
  },
  {
   "cell_type": "code",
   "execution_count": null,
   "id": "cc2f088f-ca29-4749-a938-d526544534cc",
   "metadata": {
    "editable": true,
    "slideshow": {
     "slide_type": ""
    },
    "tags": []
   },
   "outputs": [],
   "source": []
  },
  {
   "cell_type": "code",
   "execution_count": null,
   "id": "ff4a07f4-d0e8-47a0-8933-4e94d3427a66",
   "metadata": {},
   "outputs": [],
   "source": []
  }
 ],
 "metadata": {
  "kernelspec": {
   "display_name": "pydataenv",
   "language": "python",
   "name": "pydataenv"
  },
  "language_info": {
   "codemirror_mode": {
    "name": "ipython",
    "version": 3
   },
   "file_extension": ".py",
   "mimetype": "text/x-python",
   "name": "python",
   "nbconvert_exporter": "python",
   "pygments_lexer": "ipython3",
   "version": "3.11.3"
  }
 },
 "nbformat": 4,
 "nbformat_minor": 5
}
