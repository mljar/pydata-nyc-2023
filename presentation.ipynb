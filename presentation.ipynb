{
 "cells": [
  {
   "cell_type": "code",
   "execution_count": 1,
   "id": "5de1cf92-9369-43b8-9684-9ea6dd6e1b6d",
   "metadata": {
    "editable": true,
    "slideshow": {
     "slide_type": "skip"
    },
    "tags": []
   },
   "outputs": [],
   "source": [
    "import mercury as mr\n",
    "import pandas as pd\n",
    "import numpy as np\n",
    "from matplotlib import pyplot as plt"
   ]
  },
  {
   "cell_type": "markdown",
   "id": "6a42a5a6-b19e-4cd8-8521-f3c308716ddf",
   "metadata": {
    "editable": true,
    "slideshow": {
     "slide_type": "slide"
    },
    "tags": []
   },
   "source": [
    "# Presentation 🎲"
   ]
  },
  {
   "cell_type": "markdown",
   "id": "0e2bb13f-b952-409d-b0ed-f6e3bdb0f491",
   "metadata": {
    "editable": true,
    "slideshow": {
     "slide_type": "slide"
    },
    "tags": []
   },
   "source": [
    "Agenda\n",
    "- generate some data\n",
    "- display data frame\n",
    "- display plot"
   ]
  },
  {
   "cell_type": "code",
   "execution_count": 2,
   "id": "efdbcd0c-67ef-4cb6-84fe-f99b552572d2",
   "metadata": {
    "editable": true,
    "slideshow": {
     "slide_type": "skip"
    },
    "tags": []
   },
   "outputs": [
    {
     "data": {
      "application/mercury+json": "{\n    \"widget\": \"Slider\",\n    \"value\": 20,\n    \"min\": 10,\n    \"max\": 100,\n    \"step\": 1,\n    \"label\": \"Rows\",\n    \"model_id\": \"34677a6b245148d3acc2265a3c9adfc6\",\n    \"code_uid\": \"Slider.0.40.36.1-rand1aeaa4b4\",\n    \"url_key\": \"\",\n    \"disabled\": false,\n    \"hidden\": false\n}",
      "application/vnd.jupyter.widget-view+json": {
       "model_id": "34677a6b245148d3acc2265a3c9adfc6",
       "version_major": 2,
       "version_minor": 0
      },
      "text/plain": [
       "mercury.Slider"
      ]
     },
     "metadata": {},
     "output_type": "display_data"
    }
   ],
   "source": [
    "rows = mr.Slider(label=\"Rows\", value=20, min=10, max=100)"
   ]
  },
  {
   "cell_type": "code",
   "execution_count": 3,
   "id": "a37ec580-ffd8-46f3-a8f4-c8fae401e111",
   "metadata": {
    "editable": true,
    "slideshow": {
     "slide_type": "skip"
    },
    "tags": []
   },
   "outputs": [
    {
     "data": {
      "application/mercury+json": "{\n    \"widget\": \"Slider\",\n    \"value\": 5,\n    \"min\": 3,\n    \"max\": 10,\n    \"step\": 1,\n    \"label\": \"Columns\",\n    \"model_id\": \"69410d9c806148e1a8568459665cf3e8\",\n    \"code_uid\": \"Slider.0.40.36.1-rand4e378c6d\",\n    \"url_key\": \"\",\n    \"disabled\": false,\n    \"hidden\": false\n}",
      "application/vnd.jupyter.widget-view+json": {
       "model_id": "69410d9c806148e1a8568459665cf3e8",
       "version_major": 2,
       "version_minor": 0
      },
      "text/plain": [
       "mercury.Slider"
      ]
     },
     "metadata": {},
     "output_type": "display_data"
    }
   ],
   "source": [
    "cols = mr.Slider(label=\"Columns\", value=5, min=3, max=10)"
   ]
  },
  {
   "cell_type": "code",
   "execution_count": 4,
   "id": "81b609e1-ab99-495c-8112-abe4d0746922",
   "metadata": {
    "editable": true,
    "slideshow": {
     "slide_type": "slide"
    },
    "tags": []
   },
   "outputs": [
    {
     "data": {
      "text/html": [
       "<div>\n",
       "<style scoped>\n",
       "    .dataframe tbody tr th:only-of-type {\n",
       "        vertical-align: middle;\n",
       "    }\n",
       "\n",
       "    .dataframe tbody tr th {\n",
       "        vertical-align: top;\n",
       "    }\n",
       "\n",
       "    .dataframe thead th {\n",
       "        text-align: right;\n",
       "    }\n",
       "</style>\n",
       "<table border=\"1\" class=\"dataframe\">\n",
       "  <thead>\n",
       "    <tr style=\"text-align: right;\">\n",
       "      <th></th>\n",
       "      <th>col0</th>\n",
       "      <th>col1</th>\n",
       "      <th>col2</th>\n",
       "      <th>col3</th>\n",
       "      <th>col4</th>\n",
       "    </tr>\n",
       "  </thead>\n",
       "  <tbody>\n",
       "    <tr>\n",
       "      <th>0</th>\n",
       "      <td>0.438185</td>\n",
       "      <td>0.861438</td>\n",
       "      <td>0.507896</td>\n",
       "      <td>0.707377</td>\n",
       "      <td>0.219140</td>\n",
       "    </tr>\n",
       "    <tr>\n",
       "      <th>1</th>\n",
       "      <td>0.388648</td>\n",
       "      <td>0.025953</td>\n",
       "      <td>0.491810</td>\n",
       "      <td>0.711119</td>\n",
       "      <td>0.329240</td>\n",
       "    </tr>\n",
       "    <tr>\n",
       "      <th>2</th>\n",
       "      <td>0.990503</td>\n",
       "      <td>0.863888</td>\n",
       "      <td>0.168140</td>\n",
       "      <td>0.808337</td>\n",
       "      <td>0.075074</td>\n",
       "    </tr>\n",
       "    <tr>\n",
       "      <th>3</th>\n",
       "      <td>0.238883</td>\n",
       "      <td>0.303063</td>\n",
       "      <td>0.719366</td>\n",
       "      <td>0.232287</td>\n",
       "      <td>0.391053</td>\n",
       "    </tr>\n",
       "    <tr>\n",
       "      <th>4</th>\n",
       "      <td>0.818835</td>\n",
       "      <td>0.291839</td>\n",
       "      <td>0.105631</td>\n",
       "      <td>0.926096</td>\n",
       "      <td>0.209573</td>\n",
       "    </tr>\n",
       "    <tr>\n",
       "      <th>5</th>\n",
       "      <td>0.569952</td>\n",
       "      <td>0.424013</td>\n",
       "      <td>0.472672</td>\n",
       "      <td>0.556866</td>\n",
       "      <td>0.181133</td>\n",
       "    </tr>\n",
       "    <tr>\n",
       "      <th>6</th>\n",
       "      <td>0.117385</td>\n",
       "      <td>0.136136</td>\n",
       "      <td>0.616984</td>\n",
       "      <td>0.908623</td>\n",
       "      <td>0.181323</td>\n",
       "    </tr>\n",
       "    <tr>\n",
       "      <th>7</th>\n",
       "      <td>0.801184</td>\n",
       "      <td>0.373285</td>\n",
       "      <td>0.860408</td>\n",
       "      <td>0.490701</td>\n",
       "      <td>0.697083</td>\n",
       "    </tr>\n",
       "    <tr>\n",
       "      <th>8</th>\n",
       "      <td>0.866838</td>\n",
       "      <td>0.655398</td>\n",
       "      <td>0.651464</td>\n",
       "      <td>0.948572</td>\n",
       "      <td>0.012108</td>\n",
       "    </tr>\n",
       "    <tr>\n",
       "      <th>9</th>\n",
       "      <td>0.661596</td>\n",
       "      <td>0.682094</td>\n",
       "      <td>0.896307</td>\n",
       "      <td>0.513142</td>\n",
       "      <td>0.800629</td>\n",
       "    </tr>\n",
       "    <tr>\n",
       "      <th>10</th>\n",
       "      <td>0.122916</td>\n",
       "      <td>0.435360</td>\n",
       "      <td>0.830523</td>\n",
       "      <td>0.027324</td>\n",
       "      <td>0.939458</td>\n",
       "    </tr>\n",
       "    <tr>\n",
       "      <th>11</th>\n",
       "      <td>0.916546</td>\n",
       "      <td>0.919906</td>\n",
       "      <td>0.723023</td>\n",
       "      <td>0.570865</td>\n",
       "      <td>0.274972</td>\n",
       "    </tr>\n",
       "    <tr>\n",
       "      <th>12</th>\n",
       "      <td>0.994787</td>\n",
       "      <td>0.784767</td>\n",
       "      <td>0.958273</td>\n",
       "      <td>0.879537</td>\n",
       "      <td>0.857308</td>\n",
       "    </tr>\n",
       "    <tr>\n",
       "      <th>13</th>\n",
       "      <td>0.103976</td>\n",
       "      <td>0.492468</td>\n",
       "      <td>0.282946</td>\n",
       "      <td>0.030675</td>\n",
       "      <td>0.951637</td>\n",
       "    </tr>\n",
       "    <tr>\n",
       "      <th>14</th>\n",
       "      <td>0.098962</td>\n",
       "      <td>0.919759</td>\n",
       "      <td>0.939911</td>\n",
       "      <td>0.828161</td>\n",
       "      <td>0.172112</td>\n",
       "    </tr>\n",
       "    <tr>\n",
       "      <th>15</th>\n",
       "      <td>0.257930</td>\n",
       "      <td>0.318276</td>\n",
       "      <td>0.501502</td>\n",
       "      <td>0.893926</td>\n",
       "      <td>0.397190</td>\n",
       "    </tr>\n",
       "    <tr>\n",
       "      <th>16</th>\n",
       "      <td>0.358007</td>\n",
       "      <td>0.577284</td>\n",
       "      <td>0.445468</td>\n",
       "      <td>0.210831</td>\n",
       "      <td>0.919676</td>\n",
       "    </tr>\n",
       "    <tr>\n",
       "      <th>17</th>\n",
       "      <td>0.028710</td>\n",
       "      <td>0.487421</td>\n",
       "      <td>0.787138</td>\n",
       "      <td>0.194149</td>\n",
       "      <td>0.594322</td>\n",
       "    </tr>\n",
       "    <tr>\n",
       "      <th>18</th>\n",
       "      <td>0.657255</td>\n",
       "      <td>0.408834</td>\n",
       "      <td>0.872027</td>\n",
       "      <td>0.912819</td>\n",
       "      <td>0.109295</td>\n",
       "    </tr>\n",
       "    <tr>\n",
       "      <th>19</th>\n",
       "      <td>0.665412</td>\n",
       "      <td>0.765274</td>\n",
       "      <td>0.132846</td>\n",
       "      <td>0.740367</td>\n",
       "      <td>0.994499</td>\n",
       "    </tr>\n",
       "  </tbody>\n",
       "</table>\n",
       "</div>"
      ],
      "text/plain": [
       "        col0      col1      col2      col3      col4\n",
       "0   0.438185  0.861438  0.507896  0.707377  0.219140\n",
       "1   0.388648  0.025953  0.491810  0.711119  0.329240\n",
       "2   0.990503  0.863888  0.168140  0.808337  0.075074\n",
       "3   0.238883  0.303063  0.719366  0.232287  0.391053\n",
       "4   0.818835  0.291839  0.105631  0.926096  0.209573\n",
       "5   0.569952  0.424013  0.472672  0.556866  0.181133\n",
       "6   0.117385  0.136136  0.616984  0.908623  0.181323\n",
       "7   0.801184  0.373285  0.860408  0.490701  0.697083\n",
       "8   0.866838  0.655398  0.651464  0.948572  0.012108\n",
       "9   0.661596  0.682094  0.896307  0.513142  0.800629\n",
       "10  0.122916  0.435360  0.830523  0.027324  0.939458\n",
       "11  0.916546  0.919906  0.723023  0.570865  0.274972\n",
       "12  0.994787  0.784767  0.958273  0.879537  0.857308\n",
       "13  0.103976  0.492468  0.282946  0.030675  0.951637\n",
       "14  0.098962  0.919759  0.939911  0.828161  0.172112\n",
       "15  0.257930  0.318276  0.501502  0.893926  0.397190\n",
       "16  0.358007  0.577284  0.445468  0.210831  0.919676\n",
       "17  0.028710  0.487421  0.787138  0.194149  0.594322\n",
       "18  0.657255  0.408834  0.872027  0.912819  0.109295\n",
       "19  0.665412  0.765274  0.132846  0.740367  0.994499"
      ]
     },
     "execution_count": 4,
     "metadata": {},
     "output_type": "execute_result"
    }
   ],
   "source": [
    "df = pd.DataFrame({\n",
    "    f\"col{i}\": np.random.rand(rows.value) for i in range(cols.value)\n",
    "})\n",
    "df"
   ]
  },
  {
   "cell_type": "code",
   "execution_count": 5,
   "id": "d4487944-596d-4a5c-9048-38a66d6a45bd",
   "metadata": {
    "editable": true,
    "slideshow": {
     "slide_type": "skip"
    },
    "tags": []
   },
   "outputs": [
    {
     "data": {
      "application/mercury+json": "{\n    \"widget\": \"Select\",\n    \"value\": \"red\",\n    \"choices\": [\n        \"red\",\n        \"blue\"\n    ],\n    \"label\": \"Color\",\n    \"model_id\": \"11bcf39b185e423798561bd04e0bf3cc\",\n    \"code_uid\": \"Select.0.40.16.1-rand35dd349c\",\n    \"url_key\": \"\",\n    \"disabled\": false,\n    \"hidden\": false\n}",
      "application/vnd.jupyter.widget-view+json": {
       "model_id": "11bcf39b185e423798561bd04e0bf3cc",
       "version_major": 2,
       "version_minor": 0
      },
      "text/plain": [
       "mercury.Select"
      ]
     },
     "metadata": {},
     "output_type": "display_data"
    }
   ],
   "source": [
    "color = mr.Select(label=\"Color\", value=\"red\", choices=[\"red\", \"blue\"])"
   ]
  },
  {
   "cell_type": "code",
   "execution_count": 6,
   "id": "e4d93473-9b00-478f-9d02-870bd8eca4d3",
   "metadata": {
    "editable": true,
    "slideshow": {
     "slide_type": "slide"
    },
    "tags": []
   },
   "outputs": [
    {
     "data": {
      "image/png": "[encoded data removed]",
      "text/plain": [
       "<Figure size 640x480 with 1 Axes>"
      ]
     },
     "metadata": {},
     "output_type": "display_data"
    }
   ],
   "source": [
    "_=plt.plot(df[\"col0\"], df[\"col1\"], \"*\", color=color.value, markersize=12)"
   ]
  },
  {
   "cell_type": "code",
   "execution_count": null,
   "id": "cc2f088f-ca29-4749-a938-d526544534cc",
   "metadata": {
    "editable": true,
    "slideshow": {
     "slide_type": ""
    },
    "tags": []
   },
   "outputs": [],
   "source": []
  },
  {
   "cell_type": "code",
   "execution_count": null,
   "id": "ff4a07f4-d0e8-47a0-8933-4e94d3427a66",
   "metadata": {},
   "outputs": [],
   "source": []
  }
 ],
 "metadata": {
  "kernelspec": {
   "display_name": "pydataenv",
   "language": "python",
   "name": "pydataenv"
  },
  "language_info": {
   "codemirror_mode": {
    "name": "ipython",
    "version": 3
   },
   "file_extension": ".py",
   "mimetype": "text/x-python",
   "name": "python",
   "nbconvert_exporter": "python",
   "pygments_lexer": "ipython3",
   "version": "3.11.3"
  }
 },
 "nbformat": 4,
 "nbformat_minor": 5
}
