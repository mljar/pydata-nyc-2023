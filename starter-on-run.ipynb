{
 "cells": [
  {
   "cell_type": "code",
   "execution_count": 2,
   "id": "6195a657-d328-480f-a216-7a9427a704ce",
   "metadata": {},
   "outputs": [],
   "source": [
    "import os\n",
    "import mercury as mr"
   ]
  },
  {
   "cell_type": "code",
   "execution_count": 3,
   "id": "3f21c850-18ca-4756-a4aa-3882776e4ac2",
   "metadata": {},
   "outputs": [
    {
     "data": {
      "application/mercury+json": "{\n    \"widget\": \"App\",\n    \"title\": \"Starter app on run\",\n    \"description\": \"Simple notebook\",\n    \"show_code\": false,\n    \"show_prompt\": false,\n    \"output\": \"app\",\n    \"schedule\": \"\",\n    \"notify\": \"{}\",\n    \"continuous_update\": false,\n    \"static_notebook\": false,\n    \"show_sidebar\": true,\n    \"full_screen\": true,\n    \"allow_download\": true,\n    \"stop_on_error\": false,\n    \"model_id\": \"mercury-app\",\n    \"code_uid\": \"App.0.40.25.1-rand0c7358a2\"\n}",
      "text/html": [
       "<h3>Mercury Application</h3><small>This output won't appear in the web app.</small>"
      ],
      "text/plain": [
       "mercury.App"
      ]
     },
     "metadata": {},
     "output_type": "display_data"
    }
   ],
   "source": [
    "app = mr.App(title=\"Starter app on run\", description=\"Simple notebook\",\n",
    "                continuous_update=False)"
   ]
  },
  {
   "cell_type": "markdown",
   "id": "947c6d88-910e-4008-b711-faddac090d57",
   "metadata": {},
   "source": [
    "# EuroSciPy 2023 👋"
   ]
  },
  {
   "cell_type": "code",
   "execution_count": 4,
   "id": "41fc3728-122d-4a92-b547-bf685f37a226",
   "metadata": {},
   "outputs": [
    {
     "data": {
      "application/mercury+json": "{\n    \"widget\": \"Select\",\n    \"value\": \"Hello\",\n    \"choices\": [\n        \"Hello\",\n        \"Hi\",\n        \"Cze\\u015b\\u0107\"\n    ],\n    \"label\": \"Greetings\",\n    \"model_id\": \"143eb7449db54f1f86026f716d88ed14\",\n    \"code_uid\": \"Select.0.40.16.1.greetings-randce354e81\",\n    \"url_key\": \"greetings\",\n    \"disabled\": false,\n    \"hidden\": false\n}",
      "application/vnd.jupyter.widget-view+json": {
       "model_id": "143eb7449db54f1f86026f716d88ed14",
       "version_major": 2,
       "version_minor": 0
      },
      "text/plain": [
       "mercury.Select"
      ]
     },
     "metadata": {},
     "output_type": "display_data"
    }
   ],
   "source": [
    "greetings = mr.Select(label=\"Greetings\", value=\"Hello\", choices=[\"Hello\", \"Hi\", \"Cześć\"], url_key=\"greetings\")"
   ]
  },
  {
   "cell_type": "code",
   "execution_count": 5,
   "id": "30e1d439-a139-436d-9bb6-ae51f842fe92",
   "metadata": {},
   "outputs": [
    {
     "data": {
      "application/mercury+json": "{\n    \"widget\": \"Text\",\n    \"value\": \"Basel\",\n    \"rows\": 1,\n    \"label\": \"City\",\n    \"model_id\": \"84e333ce516740c39dbbfe40b03ef75e\",\n    \"code_uid\": \"Text.0.40.15.1-rand650bd83d\",\n    \"url_key\": \"\",\n    \"disabled\": false,\n    \"hidden\": false\n}",
      "application/vnd.jupyter.widget-view+json": {
       "model_id": "84e333ce516740c39dbbfe40b03ef75e",
       "version_major": 2,
       "version_minor": 0
      },
      "text/plain": [
       "mercury.Text"
      ]
     },
     "metadata": {},
     "output_type": "display_data"
    }
   ],
   "source": [
    "city = mr.Text(label=\"City\", value=\"Basel\")"
   ]
  },
  {
   "cell_type": "code",
   "execution_count": 6,
   "id": "aac334d6-c1cd-41bb-8a36-16b3e8bf8f5b",
   "metadata": {},
   "outputs": [
    {
     "name": "stdout",
     "output_type": "stream",
     "text": [
      "Hello Basel!\n"
     ]
    }
   ],
   "source": [
    "print(f\"{greetings.value} {city.value}!\")"
   ]
  },
  {
   "cell_type": "code",
   "execution_count": 7,
   "id": "c5100a26-e412-4e1d-bcc6-9ffa99a9f0cd",
   "metadata": {},
   "outputs": [
    {
     "data": {
      "application/mercury+json": "{\n    \"widget\": \"Slider\",\n    \"value\": 2,\n    \"min\": 0,\n    \"max\": 10,\n    \"step\": 1,\n    \"label\": \"Variable a\",\n    \"model_id\": \"7e29a63ca0524e92ace6f14d144e696d\",\n    \"code_uid\": \"Slider.0.40.36.1-rand0ed51822\",\n    \"url_key\": \"\",\n    \"disabled\": false,\n    \"hidden\": false\n}",
      "application/vnd.jupyter.widget-view+json": {
       "model_id": "7e29a63ca0524e92ace6f14d144e696d",
       "version_major": 2,
       "version_minor": 0
      },
      "text/plain": [
       "mercury.Slider"
      ]
     },
     "metadata": {},
     "output_type": "display_data"
    }
   ],
   "source": [
    "a = mr.Slider(label=\"Variable a\", value=2)"
   ]
  },
  {
   "cell_type": "code",
   "execution_count": 8,
   "id": "2790ea1c-89d8-4f21-9eb2-d764c6246131",
   "metadata": {},
   "outputs": [
    {
     "data": {
      "application/mercury+json": "{\n    \"widget\": \"Numeric\",\n    \"value\": 3.0,\n    \"min\": 0.0,\n    \"max\": 10.0,\n    \"step\": 1.0,\n    \"label\": \"Variable b\",\n    \"model_id\": \"c6d5dcc133d9486c8f05b027f5e12502\",\n    \"code_uid\": \"Numeric.0.40.26.1-rand35e36c2e\",\n    \"url_key\": \"\",\n    \"disabled\": false,\n    \"hidden\": false\n}",
      "application/vnd.jupyter.widget-view+json": {
       "model_id": "c6d5dcc133d9486c8f05b027f5e12502",
       "version_major": 2,
       "version_minor": 0
      },
      "text/plain": [
       "mercury.Numeric"
      ]
     },
     "metadata": {},
     "output_type": "display_data"
    }
   ],
   "source": [
    "b = mr.Numeric(label=\"Variable b\", value=3)"
   ]
  },
  {
   "cell_type": "code",
   "execution_count": 9,
   "id": "88364b42-02f8-45c4-83c9-d797f8b62f91",
   "metadata": {},
   "outputs": [
    {
     "data": {
      "text/markdown": [
       "## The result is 5.0"
      ],
      "text/plain": [
       "<IPython.core.display.Markdown object>"
      ]
     },
     "metadata": {},
     "output_type": "display_data"
    }
   ],
   "source": [
    "mr.Markdown(f\"## The result is {a.value+b.value}\")"
   ]
  },
  {
   "cell_type": "code",
   "execution_count": 10,
   "id": "936ae8b7-8819-45e1-9374-b5dcc9fbbf91",
   "metadata": {},
   "outputs": [
    {
     "data": {
      "application/mercury+json": "{\n    \"widget\": \"OutputDir\",\n    \"model_id\": \"output-dir\",\n    \"code_uid\": \"OutputDir.0.40.18.1-randb5e3f93f\"\n}",
      "text/html": [
       "<h3>Output Directory</h3><small>This output won't appear in the web app.</small>"
      ],
      "text/plain": [
       "mercury.OutputDir"
      ]
     },
     "metadata": {},
     "output_type": "display_data"
    }
   ],
   "source": [
    "output = mr.OutputDir()"
   ]
  },
  {
   "cell_type": "code",
   "execution_count": 11,
   "id": "6e4b57aa-4d19-4177-ae34-355c95572bfc",
   "metadata": {},
   "outputs": [],
   "source": [
    "with open(os.path.join(output.path, \"results.txt\"), \"w\") as fout:\n",
    "    fout.write(f\"The result is {a.value+b.value}\")"
   ]
  },
  {
   "cell_type": "code",
   "execution_count": null,
   "id": "3a459c59-1f2c-4500-90d6-f2fe23b17d4b",
   "metadata": {},
   "outputs": [],
   "source": []
  },
  {
   "cell_type": "code",
   "execution_count": null,
   "id": "6c636c01-7b12-40eb-b2f9-65dc32944511",
   "metadata": {},
   "outputs": [],
   "source": []
  },
  {
   "cell_type": "code",
   "execution_count": null,
   "id": "2439a8c6-fdd5-4596-95e7-065da42b6af4",
   "metadata": {},
   "outputs": [],
   "source": []
  }
 ],
 "metadata": {
  "kernelspec": {
   "display_name": "pydataenv",
   "language": "python",
   "name": "pydataenv"
  },
  "language_info": {
   "codemirror_mode": {
    "name": "ipython",
    "version": 3
   },
   "file_extension": ".py",
   "mimetype": "text/x-python",
   "name": "python",
   "nbconvert_exporter": "python",
   "pygments_lexer": "ipython3",
   "version": "3.11.3"
  }
 },
 "nbformat": 4,
 "nbformat_minor": 5
}
