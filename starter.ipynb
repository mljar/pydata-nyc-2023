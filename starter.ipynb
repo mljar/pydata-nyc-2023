{
 "cells": [
  {
   "cell_type": "code",
   "execution_count": 1,
   "id": "6195a657-d328-480f-a216-7a9427a704ce",
   "metadata": {
    "editable": true,
    "slideshow": {
     "slide_type": ""
    },
    "tags": []
   },
   "outputs": [],
   "source": [
    "import os\n",
    "import mercury as mr\n"
   ]
  },
  {
   "cell_type": "code",
   "execution_count": 2,
   "id": "3f21c850-18ca-4756-a4aa-3882776e4ac2",
   "metadata": {},
   "outputs": [
    {
     "data": {
      "application/mercury+json": "{\n    \"widget\": \"App\",\n    \"title\": \"Starter app\",\n    \"description\": \"Simple notebook\",\n    \"show_code\": false,\n    \"show_prompt\": false,\n    \"output\": \"app\",\n    \"schedule\": \"\",\n    \"notify\": \"{}\",\n    \"continuous_update\": true,\n    \"static_notebook\": false,\n    \"show_sidebar\": true,\n    \"full_screen\": true,\n    \"allow_download\": true,\n    \"stop_on_error\": false,\n    \"model_id\": \"mercury-app\",\n    \"code_uid\": \"App.0.40.25.1-rand96a0023a\"\n}",
      "text/html": [
       "<h3>Mercury Application</h3><small>This output won't appear in the web app.</small>"
      ],
      "text/plain": [
       "mercury.App"
      ]
     },
     "metadata": {},
     "output_type": "display_data"
    }
   ],
   "source": [
    "app = mr.App(title=\"Starter app\", description=\"Simple notebook\")"
   ]
  },
  {
   "cell_type": "markdown",
   "id": "947c6d88-910e-4008-b711-faddac090d57",
   "metadata": {},
   "source": [
    "# PyData NYC 2023 👋"
   ]
  },
  {
   "cell_type": "code",
   "execution_count": 3,
   "id": "41fc3728-122d-4a92-b547-bf685f37a226",
   "metadata": {},
   "outputs": [
    {
     "data": {
      "application/mercury+json": "{\n    \"widget\": \"Select\",\n    \"value\": \"Hello\",\n    \"choices\": [\n        \"Hello\",\n        \"Hi\",\n        \"Cze\\u015b\\u0107\"\n    ],\n    \"label\": \"Greetings\",\n    \"model_id\": \"4d100a06925d4f4db35fbc85d806ce3f\",\n    \"code_uid\": \"Select.0.40.16.1.greetings-randb92b31a9\",\n    \"url_key\": \"greetings\",\n    \"disabled\": false,\n    \"hidden\": false\n}",
      "application/vnd.jupyter.widget-view+json": {
       "model_id": "4d100a06925d4f4db35fbc85d806ce3f",
       "version_major": 2,
       "version_minor": 0
      },
      "text/plain": [
       "mercury.Select"
      ]
     },
     "metadata": {},
     "output_type": "display_data"
    }
   ],
   "source": [
    "greetings = mr.Select(label=\"Greetings\", value=\"Hello\", choices=[\"Hello\", \"Hi\", \"Cześć\"], url_key=\"greetings\")"
   ]
  },
  {
   "cell_type": "code",
   "execution_count": 4,
   "id": "30e1d439-a139-436d-9bb6-ae51f842fe92",
   "metadata": {},
   "outputs": [
    {
     "data": {
      "application/mercury+json": "{\n    \"widget\": \"Text\",\n    \"value\": \"New York\",\n    \"rows\": 1,\n    \"label\": \"City\",\n    \"model_id\": \"4aaffa2aabdb45bdbc21a45bc09688a8\",\n    \"code_uid\": \"Text.0.40.15.1-rand476b0270\",\n    \"url_key\": \"\",\n    \"disabled\": false,\n    \"hidden\": false\n}",
      "application/vnd.jupyter.widget-view+json": {
       "model_id": "4aaffa2aabdb45bdbc21a45bc09688a8",
       "version_major": 2,
       "version_minor": 0
      },
      "text/plain": [
       "mercury.Text"
      ]
     },
     "metadata": {},
     "output_type": "display_data"
    }
   ],
   "source": [
    "city = mr.Text(label=\"City\", value=\"New York\")"
   ]
  },
  {
   "cell_type": "code",
   "execution_count": 5,
   "id": "aac334d6-c1cd-41bb-8a36-16b3e8bf8f5b",
   "metadata": {},
   "outputs": [
    {
     "name": "stdout",
     "output_type": "stream",
     "text": [
      "Hello New York!\n"
     ]
    }
   ],
   "source": [
    "print(f\"{greetings.value} {city.value}!\")"
   ]
  },
  {
   "cell_type": "code",
   "execution_count": 6,
   "id": "c5100a26-e412-4e1d-bcc6-9ffa99a9f0cd",
   "metadata": {},
   "outputs": [
    {
     "data": {
      "application/mercury+json": "{\n    \"widget\": \"Slider\",\n    \"value\": 2,\n    \"min\": 0,\n    \"max\": 10,\n    \"step\": 1,\n    \"label\": \"Variable a\",\n    \"model_id\": \"9695305b371641d186ec8e5b83b7e1dd\",\n    \"code_uid\": \"Slider.0.40.36.1-rand8130ddae\",\n    \"url_key\": \"\",\n    \"disabled\": false,\n    \"hidden\": false\n}",
      "application/vnd.jupyter.widget-view+json": {
       "model_id": "9695305b371641d186ec8e5b83b7e1dd",
       "version_major": 2,
       "version_minor": 0
      },
      "text/plain": [
       "mercury.Slider"
      ]
     },
     "metadata": {},
     "output_type": "display_data"
    }
   ],
   "source": [
    "a = mr.Slider(label=\"Variable a\", value=2)"
   ]
  },
  {
   "cell_type": "code",
   "execution_count": 7,
   "id": "2790ea1c-89d8-4f21-9eb2-d764c6246131",
   "metadata": {},
   "outputs": [
    {
     "data": {
      "application/mercury+json": "{\n    \"widget\": \"Numeric\",\n    \"value\": 3.0,\n    \"min\": 0.0,\n    \"max\": 10.0,\n    \"step\": 1.0,\n    \"label\": \"Variable b\",\n    \"model_id\": \"cec9d923e9d4428abd3d971c21fd1f86\",\n    \"code_uid\": \"Numeric.0.40.26.1-randbf4a13cd\",\n    \"url_key\": \"\",\n    \"disabled\": false,\n    \"hidden\": false\n}",
      "application/vnd.jupyter.widget-view+json": {
       "model_id": "cec9d923e9d4428abd3d971c21fd1f86",
       "version_major": 2,
       "version_minor": 0
      },
      "text/plain": [
       "mercury.Numeric"
      ]
     },
     "metadata": {},
     "output_type": "display_data"
    }
   ],
   "source": [
    "b = mr.Numeric(label=\"Variable b\", value=3)"
   ]
  },
  {
   "cell_type": "code",
   "execution_count": 8,
   "id": "88364b42-02f8-45c4-83c9-d797f8b62f91",
   "metadata": {},
   "outputs": [
    {
     "data": {
      "text/markdown": [
       "## The result is 5.0"
      ],
      "text/plain": [
       "<IPython.core.display.Markdown object>"
      ]
     },
     "metadata": {},
     "output_type": "display_data"
    }
   ],
   "source": [
    "mr.Markdown(f\"## The result is {a.value+b.value}\")"
   ]
  },
  {
   "cell_type": "code",
   "execution_count": null,
   "id": "3a459c59-1f2c-4500-90d6-f2fe23b17d4b",
   "metadata": {},
   "outputs": [],
   "source": []
  }
 ],
 "metadata": {
  "kernelspec": {
   "display_name": "pydataenv",
   "language": "python",
   "name": "pydataenv"
  },
  "language_info": {
   "codemirror_mode": {
    "name": "ipython",
    "version": 3
   },
   "file_extension": ".py",
   "mimetype": "text/x-python",
   "name": "python",
   "nbconvert_exporter": "python",
   "pygments_lexer": "ipython3",
   "version": "3.11.3"
  }
 },
 "nbformat": 4,
 "nbformat_minor": 5
}
